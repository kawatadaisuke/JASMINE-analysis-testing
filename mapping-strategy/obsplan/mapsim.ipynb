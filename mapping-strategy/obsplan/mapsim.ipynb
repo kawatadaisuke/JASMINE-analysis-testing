{
 "cells": [
  {
   "cell_type": "markdown",
   "id": "35c64dc1",
   "metadata": {},
   "source": [
    "###  mapsim\n",
    "\n",
    "Exploring the mapping strategy based on Kataza-san's mapsim1.py"
   ]
  },
  {
   "cell_type": "code",
   "execution_count": 28,
   "id": "fcab3246",
   "metadata": {},
   "outputs": [],
   "source": [
    "import numpy as np\n",
    "import math\n",
    "import svgwrite\n",
    "from docopt import docopt\n",
    "import matplotlib\n",
    "import matplotlib.pyplot as plt\n",
    "import matplotlib.cm as cm\n",
    "import matplotlib.gridspec as gridspec\n",
    "from matplotlib import patches"
   ]
  },
  {
   "cell_type": "markdown",
   "id": "b2210600",
   "metadata": {},
   "source": [
    "Set Effective Focal Length (EFL) per Cell size, M, (mm/$\\mu$m). This needs to be a mutiple of 20. "
   ]
  },
  {
   "cell_type": "code",
   "execution_count": 29,
   "id": "e845f231",
   "metadata": {},
   "outputs": [],
   "source": [
    "efl_per_cellsize = 5680"
   ]
  },
  {
   "cell_type": "markdown",
   "id": "9820a887",
   "metadata": {},
   "source": [
    "Set the other model parameters"
   ]
  },
  {
   "cell_type": "code",
   "execution_count": 30,
   "id": "db3dcd00",
   "metadata": {},
   "outputs": [],
   "source": [
    "cells_per_pix = 13\n",
    "pixel_size = 10\n",
    "efl = efl_per_cellsize*pixel_size/cells_per_pix\n",
    "pfov = 10e-3/efl * 180/math.pi\n",
    "num_pixels = 1952\n",
    "chip_spacing_a = 22.4/efl * 180/math.pi\n",
    "chip_spacing_b = 22.4/efl * 180/math.pi"
   ]
  },
  {
   "cell_type": "code",
   "execution_count": 70,
   "id": "a7ce327f",
   "metadata": {},
   "outputs": [
    {
     "name": "stdout",
     "output_type": "stream",
     "text": [
      " EFL (mm)= 4369.2307692307695\n",
      " chip spacing A and B (deg)= 0.2937417428558023 0.2937417428558023\n",
      " chip width (deg) = 0.2559749473457706\n"
     ]
    }
   ],
   "source": [
    "print(' EFL (mm)=', efl)\n",
    "print(' chip spacing A and B (deg)=', chip_spacing_a, chip_spacing_b)\n",
    "chip_width = num_pixels*pfov\n",
    "print(' chip width (deg) =', chip_width)"
   ]
  },
  {
   "cell_type": "markdown",
   "id": "98b5bb4b",
   "metadata": {},
   "source": [
    "Compute the gap between the chip."
   ]
  },
  {
   "cell_type": "code",
   "execution_count": 72,
   "id": "c7f33800",
   "metadata": {},
   "outputs": [
    {
     "name": "stdout",
     "output_type": "stream",
     "text": [
      " gap spacing (deg)= 0.0377667955100317\n"
     ]
    }
   ],
   "source": [
    "gap_spacing = chip_spacing_a-chip_width\n",
    "print(' gap spacing (deg)=', gap_spacing)"
   ]
  },
  {
   "cell_type": "markdown",
   "id": "5165df62",
   "metadata": {},
   "source": [
    "Set field parameters of the JASMINE Galactic centre field, a square field of $|l|<0.7$ deg and $|b|<0.7$ deg, and a rectoangular region of $-0.7<l<-1.5$ deg and $|b|<0.3$ deg."
   ]
  },
  {
   "cell_type": "code",
   "execution_count": 75,
   "id": "ee2bfebc",
   "metadata": {},
   "outputs": [],
   "source": [
    "glon_high_sq = 0.7\n",
    "glon_low_sq = -0.7\n",
    "glat_high_sq = 0.7\n",
    "glat_low_sq = -0.7\n",
    "glon_high_ra = -0.7\n",
    "glon_low_ra = -1.5\n",
    "glat_high_ra = 0.3\n",
    "glat_low_ra = -0.3"
   ]
  },
  {
   "cell_type": "code",
   "execution_count": 78,
   "id": "8258b031",
   "metadata": {},
   "outputs": [
    {
     "name": "stdout",
     "output_type": "stream",
     "text": [
      " size of square / gap space= 37.06959992483685\n",
      " size of rectogangular / gap space in longitude = 21.1826285284782\n",
      " size of rectogangular / gap space in latitude = 15.88697139635865\n"
     ]
    }
   ],
   "source": [
    "print(' size of square / gap space=', (glon_high_sq-glon_low_sq)/gap_spacing)\n",
    "print(' size of rectogangular / gap space in longitude =', (glon_high_ra-glon_low_ra)/gap_spacing)\n",
    "print(' size of rectogangular / gap space in latitude =', (glat_high_ra-glat_low_ra)/gap_spacing)"
   ]
  },
  {
   "cell_type": "code",
   "execution_count": 67,
   "id": "e92a4452",
   "metadata": {},
   "outputs": [
    {
     "data": {
      "text/plain": [
       "<matplotlib.patches.Rectangle at 0x7fdfc1a99430>"
      ]
     },
     "execution_count": 67,
     "metadata": {},
     "output_type": "execute_result"
    },
    {
     "data": {
      "image/png": "[encoded data removed]",
      "text/plain": [
       "<Figure size 720x720 with 1 Axes>"
      ]
     },
     "metadata": {
      "needs_background": "light"
     },
     "output_type": "display_data"
    }
   ],
   "source": [
    "plt.figure(figsize=(10, 10))\n",
    "plt.rcParams[\"font.family\"] = \"Times New Roman\"\n",
    "plt.rcParams[\"mathtext.fontset\"] = \"stixsans\"\n",
    "plt.rcParams[\"font.size\"] = 16\n",
    "ax  = plt.gca()\n",
    "# ax.tick_params(labelsize=16, color='k', direction=\"in\")\n",
    "ax.set_xlim(1.75, -1.75)\n",
    "ax.set_ylim(-1.75, 1.75)\n",
    "ax.set_xlabel('l (deg)')\n",
    "ax.set_ylabel('b (deg)')\n",
    "# square region\n",
    "ax.add_patch(patches.Rectangle((glon_low_sq, glat_low_sq), glon_high_sq-glon_low_sq, glat_high_sq-glat_low_sq, lw=5, fc='black', fill = None))\n",
    "# rectoangular region\n",
    "ax.add_patch(patches.Rectangle((glon_low_ra, glat_low_ra), glon_high_ra-glon_low_ra, glat_high_ra-glat_low_ra, lw=5, fc='black', fill = None))\n"
   ]
  },
  {
   "cell_type": "code",
   "execution_count": 109,
   "id": "ab8f2642",
   "metadata": {},
   "outputs": [],
   "source": [
    "def add_small_frame(ax, cen_x, cen_y, alp):\n",
    "    # bottom left\n",
    "    xl = cen_x-chip_width-0.5*gap_spacing\n",
    "    yl = cen_y-chip_width-0.5*gap_spacing\n",
    "    ax.add_patch(patches.Rectangle((xl, yl), chip_width, chip_width, fc='red', fill = True, alpha = alp))\n",
    "    # bottom right\n",
    "    xl = cen_x+0.5*gap_spacing\n",
    "    ax.add_patch(patches.Rectangle((xl, yl), chip_width, chip_width, fc='red', fill = True, alpha = alp))\n",
    "    # top right\n",
    "    yl = cen_y+0.5*gap_spacing\n",
    "    ax.add_patch(patches.Rectangle((xl, yl), chip_width, chip_width, fc='red', fill = True, alpha = alp))\n",
    "    # top left\n",
    "    xl = cen_x-chip_width-0.5*gap_spacing\n",
    "    ax.add_patch(patches.Rectangle((xl, yl), chip_width, chip_width, fc='red', fill = True, alpha = alp))"
   ]
  },
  {
   "cell_type": "markdown",
   "id": "f56ab630",
   "metadata": {},
   "source": [
    "Plot small frame mappings"
   ]
  },
  {
   "cell_type": "markdown",
   "id": "4352f3ba",
   "metadata": {},
   "source": [
    "Let's plot the first point"
   ]
  },
  {
   "cell_type": "code",
   "execution_count": 111,
   "id": "b6a08d7c",
   "metadata": {},
   "outputs": [
    {
     "data": {
      "image/png": "[encoded data removed]",
      "text/plain": [
       "<Figure size 720x720 with 1 Axes>"
      ]
     },
     "metadata": {
      "needs_background": "light"
     },
     "output_type": "display_data"
    }
   ],
   "source": [
    "plt.figure(figsize=(10, 10))\n",
    "plt.rcParams[\"font.family\"] = \"Times New Roman\"\n",
    "plt.rcParams[\"mathtext.fontset\"] = \"stixsans\"\n",
    "plt.rcParams[\"font.size\"] = 16\n",
    "ax  = plt.gca()\n",
    "# ax.tick_params(labelsize=16, color='k', direction=\"in\")\n",
    "ax.set_xlim(1.75, -1.75)\n",
    "ax.set_ylim(-1.75, 1.75)\n",
    "ax.set_xlabel('l (deg)')\n",
    "ax.set_ylabel('b (deg)')\n",
    "# square region\n",
    "ax.add_patch(patches.Rectangle((glon_low_sq, glat_low_sq), glon_high_sq-glon_low_sq, glat_high_sq-glat_low_sq, lw=5, fc='black', fill = None))\n",
    "# rectoangular region\n",
    "ax.add_patch(patches.Rectangle((glon_low_ra, glat_low_ra), glon_high_ra-glon_low_ra, glat_high_ra-glat_low_ra, lw=5, fc='black', fill = None))\n",
    "\n",
    "# starting central position\n",
    "xs = glon_high_sq+0.5*gap_spacing\n",
    "ys = glat_high_sq+0.5*gap_spacing\n",
    "add_small_frame(ax, xs, ys, 0.1)  \n",
    "    "
   ]
  },
  {
   "cell_type": "markdown",
   "id": "c2fb7859",
   "metadata": {},
   "source": [
    "Let's do first 5x5 first"
   ]
  },
  {
   "cell_type": "code",
   "execution_count": 112,
   "id": "07075204",
   "metadata": {},
   "outputs": [
    {
     "name": "stdout",
     "output_type": "stream",
     "text": [
      "number of small frame = 25\n"
     ]
    },
    {
     "data": {
      "image/png": "[encoded data removed]",
      "text/plain": [
       "<Figure size 720x720 with 1 Axes>"
      ]
     },
     "metadata": {
      "needs_background": "light"
     },
     "output_type": "display_data"
    }
   ],
   "source": [
    "plt.figure(figsize=(10, 10))\n",
    "plt.rcParams[\"font.family\"] = \"Times New Roman\"\n",
    "plt.rcParams[\"mathtext.fontset\"] = \"stixsans\"\n",
    "plt.rcParams[\"font.size\"] = 16\n",
    "ax  = plt.gca()\n",
    "# ax.tick_params(labelsize=16, color='k', direction=\"in\")\n",
    "ax.set_xlim(1.75, -1.75)\n",
    "ax.set_ylim(-1.75, 1.75)\n",
    "ax.set_xlabel('l (deg)')\n",
    "ax.set_ylabel('b (deg)')\n",
    "# square region\n",
    "ax.add_patch(patches.Rectangle((glon_low_sq, glat_low_sq), glon_high_sq-glon_low_sq, glat_high_sq-glat_low_sq, lw=5, fc='black', fill = None))\n",
    "# rectoangular region\n",
    "ax.add_patch(patches.Rectangle((glon_low_ra, glat_low_ra), glon_high_ra-glon_low_ra, glat_high_ra-glat_low_ra, lw=5, fc='black', fill = None))\n",
    "\n",
    "# add small frame for the square field.\n",
    "nx = 5\n",
    "ny = 5\n",
    "# starting central position\n",
    "xs = glon_high_sq+0.5*gap_spacing\n",
    "ys = glat_high_sq+0.5*gap_spacing\n",
    "dx = gap_spacing\n",
    "dy = gap_spacing\n",
    "# number of small frame\n",
    "nsf = 0\n",
    "xc = xs\n",
    "for ix in range(nx):\n",
    "    yc = ys\n",
    "    for iy in range(ny):\n",
    "        add_small_frame(ax, xc, yc, 0.01)    \n",
    "        yc = yc-dy\n",
    "        nsf = nsf+1\n",
    "    xc = xc-dx\n",
    "    \n",
    "print('number of small frame =', nsf)\n",
    "    "
   ]
  },
  {
   "cell_type": "code",
   "execution_count": 132,
   "id": "26cacb5e",
   "metadata": {},
   "outputs": [
    {
     "name": "stdout",
     "output_type": "stream",
     "text": [
      "number of small frame = 1705\n"
     ]
    },
    {
     "data": {
      "image/png": "[encoded data removed]",
      "text/plain": [
       "<Figure size 720x720 with 1 Axes>"
      ]
     },
     "metadata": {
      "needs_background": "light"
     },
     "output_type": "display_data"
    }
   ],
   "source": [
    "plt.figure(figsize=(10, 10))\n",
    "plt.rcParams[\"font.family\"] = \"Times New Roman\"\n",
    "plt.rcParams[\"mathtext.fontset\"] = \"stixsans\"\n",
    "plt.rcParams[\"font.size\"] = 16\n",
    "ax  = plt.gca()\n",
    "# ax.tick_params(labelsize=16, color='k', direction=\"in\")\n",
    "ax.set_xlim(1.75, -1.75)\n",
    "ax.set_ylim(-1.75, 1.75)\n",
    "ax.set_xlabel('l (deg)')\n",
    "ax.set_ylabel('b (deg)')\n",
    "# square region\n",
    "ax.add_patch(patches.Rectangle((glon_low_sq, glat_low_sq), glon_high_sq-glon_low_sq, glat_high_sq-glat_low_sq, lw=5, fc='black', fill = None))\n",
    "# rectoangular region\n",
    "ax.add_patch(patches.Rectangle((glon_low_ra, glat_low_ra), glon_high_ra-glon_low_ra, glat_high_ra-glat_low_ra, lw=5, fc='black', fill = None))\n",
    "\n",
    "# add small frame for the square field.\n",
    "nx = 37\n",
    "ny = 37\n",
    "# starting central position\n",
    "xs = glon_high_sq+0.5*gap_spacing\n",
    "ys = glat_high_sq+0.5*gap_spacing\n",
    "dx = gap_spacing\n",
    "dy = gap_spacing\n",
    "# number of small frame\n",
    "nsf = 0\n",
    "xc = xs\n",
    "for ix in range(nx):\n",
    "    yc = ys\n",
    "    for iy in range(ny):\n",
    "        add_small_frame(ax, xc, yc, 0.01)    \n",
    "        yc = yc-dy\n",
    "        nsf = nsf+1\n",
    "    xc = xc-dx\n",
    "    \n",
    "# add small frame for the rectangular field.\n",
    "nx = 21\n",
    "ny = 16\n",
    "# starting central position\n",
    "xs = glon_high_ra+0.5*gap_spacing\n",
    "ys = glat_high_ra+0.5*gap_spacing\n",
    "dx = gap_spacing\n",
    "dy = gap_spacing\n",
    "# number of small frame\n",
    "xc = xs\n",
    "for ix in range(nx):\n",
    "    yc = ys\n",
    "    for iy in range(ny):\n",
    "        add_small_frame(ax, xc, yc, 0.01)    \n",
    "        yc = yc-dy\n",
    "        nsf = nsf+1\n",
    "    xc = xc-dx\n",
    "    \n",
    "print('number of small frame =', nsf)\n",
    "    "
   ]
  },
  {
   "cell_type": "markdown",
   "id": "038a8735",
   "metadata": {},
   "source": [
    "Let's assume the number of small frame observed by each orbit is nsf_orb."
   ]
  },
  {
   "cell_type": "code",
   "execution_count": 133,
   "id": "2c0c7cff",
   "metadata": {},
   "outputs": [
    {
     "name": "stdout",
     "output_type": "stream",
     "text": [
      " Number of orbit to survey the whole large frame = 213.125\n",
      " obs time per orbit (s)= 3000.0\n",
      " number of exposure per small frame = 20.0\n"
     ]
    }
   ],
   "source": [
    "nsf_orb = 8\n",
    "norb_lf = nsf/nsf_orb\n",
    "print(' Number of orbit to survey the whole large frame =',norb_lf)\n",
    "# obs time per orbit : 50 min (s)\n",
    "t_obs_orb = 50.0*60.0\n",
    "print(' obs time per orbit (s)=', t_obs_orb)\n",
    "# time for maneuver (s)\n",
    "t_mv = 120\n",
    "# exposure time + read out\n",
    "t_exp = 13.5\n",
    "# number of exp per small frame\n",
    "n_exp = (t_obs_orb-t_mv*(nsf_orb-1))/(t_exp*nsf_orb)\n",
    "print(' number of exposure per small frame =', n_exp)\n"
   ]
  },
  {
   "cell_type": "markdown",
   "id": "8689537e",
   "metadata": {},
   "source": [
    "The maximum number of observation per star in the full survey."
   ]
  },
  {
   "cell_type": "code",
   "execution_count": 134,
   "id": "dec7c0b3",
   "metadata": {},
   "outputs": [
    {
     "name": "stdout",
     "output_type": "stream",
     "text": [
      "Number of shift to move across field width= 13.555555555555564\n",
      "Max number of observation for a star= 169\n"
     ]
    }
   ],
   "source": [
    "# number of small frame per star per large frame\n",
    "nsf_lf = int(2*chip_width/gap_spacing)**2\n",
    "print('Number of shift to move across field width=', (chip_width*2)/gap_spacing)\n",
    "print('Max number of observation for a star=', nsf_lf)"
   ]
  },
  {
   "cell_type": "code",
   "execution_count": 135,
   "id": "c6dc9967",
   "metadata": {},
   "outputs": [
    {
     "name": "stdout",
     "output_type": "stream",
     "text": [
      "total number of obs per star= 95155\n",
      " astrometric accuracy =  0.01296713954589571\n"
     ]
    }
   ],
   "source": [
    "# number of orbit in 3 years\n",
    "norb_mission = 6000\n",
    "# total number of obs\n",
    "nt_obs = int(norb_mission*nsf_lf*n_exp/norb_lf)\n",
    "print('total number of obs per star=', nt_obs)\n",
    "# centroid accuracy for one exposure (mas)\n",
    "sig_exp = 4.0\n",
    "# final astrometric accuracy\n",
    "print(' astrometric accuracy (mas) = ', sig_exp/np.sqrt(nt_obs))"
   ]
  }
 ],
 "metadata": {
  "kernelspec": {
   "display_name": "Python 3 (ipykernel)",
   "language": "python",
   "name": "python3"
  },
  "language_info": {
   "codemirror_mode": {
    "name": "ipython",
    "version": 3
   },
   "file_extension": ".py",
   "mimetype": "text/x-python",
   "name": "python",
   "nbconvert_exporter": "python",
   "pygments_lexer": "ipython3",
   "version": "3.8.5"
  }
 },
 "nbformat": 4,
 "nbformat_minor": 5
}
